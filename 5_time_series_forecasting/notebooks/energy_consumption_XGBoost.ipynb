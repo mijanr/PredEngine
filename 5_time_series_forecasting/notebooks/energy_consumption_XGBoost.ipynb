{
 "cells": [
  {
   "cell_type": "markdown",
   "metadata": {},
   "source": [
    "# Time-series forecasting with XGBoost and mlforecast"
   ]
  },
  {
   "cell_type": "markdown",
   "metadata": {},
   "source": [
    "For this task, we will use `LAcity.org Website Traffic` dataset from [Kaggle](https://www.kaggle.com/datasets/cityofLA/lacity.org-website-traffic/code). "
   ]
  },
  {
   "cell_type": "code",
   "execution_count": 3,
   "metadata": {},
   "outputs": [],
   "source": [
    "# necessary libraries\n",
    "import pandas as pd\n",
    "import numpy as np\n",
    "import matplotlib.pyplot as plt\n",
    "import seaborn as sns\n",
    "import git\n",
    "\n",
    "repo_path = git.Repo('.', search_parent_directories=True).working_tree_dir"
   ]
  },
  {
   "cell_type": "code",
   "execution_count": 5,
   "metadata": {},
   "outputs": [
    {
     "data": {
      "text/html": [
       "<div>\n",
       "<style scoped>\n",
       "    .dataframe tbody tr th:only-of-type {\n",
       "        vertical-align: middle;\n",
       "    }\n",
       "\n",
       "    .dataframe tbody tr th {\n",
       "        vertical-align: top;\n",
       "    }\n",
       "\n",
       "    .dataframe thead th {\n",
       "        text-align: right;\n",
       "    }\n",
       "</style>\n",
       "<table border=\"1\" class=\"dataframe\">\n",
       "  <thead>\n",
       "    <tr style=\"text-align: right;\">\n",
       "      <th></th>\n",
       "      <th>Date</th>\n",
       "      <th>Device Category</th>\n",
       "      <th>Browser</th>\n",
       "      <th># of Visitors</th>\n",
       "      <th>Sessions</th>\n",
       "      <th>Bounce Rate</th>\n",
       "    </tr>\n",
       "  </thead>\n",
       "  <tbody>\n",
       "    <tr>\n",
       "      <th>0</th>\n",
       "      <td>2014-01-01T00:00:00.000</td>\n",
       "      <td>desktop</td>\n",
       "      <td>Chrome</td>\n",
       "      <td>900</td>\n",
       "      <td>934</td>\n",
       "      <td>55.5675</td>\n",
       "    </tr>\n",
       "    <tr>\n",
       "      <th>1</th>\n",
       "      <td>2014-01-01T00:00:00.000</td>\n",
       "      <td>desktop</td>\n",
       "      <td>Firefox</td>\n",
       "      <td>692</td>\n",
       "      <td>761</td>\n",
       "      <td>40.8673</td>\n",
       "    </tr>\n",
       "    <tr>\n",
       "      <th>2</th>\n",
       "      <td>2014-01-01T00:00:00.000</td>\n",
       "      <td>desktop</td>\n",
       "      <td>Internet Explorer</td>\n",
       "      <td>1038</td>\n",
       "      <td>1107</td>\n",
       "      <td>31.2556</td>\n",
       "    </tr>\n",
       "    <tr>\n",
       "      <th>3</th>\n",
       "      <td>2014-01-01T00:00:00.000</td>\n",
       "      <td>desktop</td>\n",
       "      <td>Opera</td>\n",
       "      <td>35</td>\n",
       "      <td>35</td>\n",
       "      <td>100.0000</td>\n",
       "    </tr>\n",
       "    <tr>\n",
       "      <th>4</th>\n",
       "      <td>2014-01-01T00:00:00.000</td>\n",
       "      <td>desktop</td>\n",
       "      <td>Safari</td>\n",
       "      <td>484</td>\n",
       "      <td>554</td>\n",
       "      <td>24.9097</td>\n",
       "    </tr>\n",
       "  </tbody>\n",
       "</table>\n",
       "</div>"
      ],
      "text/plain": [
       "                      Date Device Category            Browser  # of Visitors  \\\n",
       "0  2014-01-01T00:00:00.000         desktop             Chrome            900   \n",
       "1  2014-01-01T00:00:00.000         desktop            Firefox            692   \n",
       "2  2014-01-01T00:00:00.000         desktop  Internet Explorer           1038   \n",
       "3  2014-01-01T00:00:00.000         desktop              Opera             35   \n",
       "4  2014-01-01T00:00:00.000         desktop             Safari            484   \n",
       "\n",
       "   Sessions  Bounce Rate  \n",
       "0       934      55.5675  \n",
       "1       761      40.8673  \n",
       "2      1107      31.2556  \n",
       "3        35     100.0000  \n",
       "4       554      24.9097  "
      ]
     },
     "execution_count": 5,
     "metadata": {},
     "output_type": "execute_result"
    }
   ],
   "source": [
    "# read in the data\n",
    "path = repo_path + '/data/lacity.org-website-traffic.csv'\n",
    "df = pd.read_csv(path)\n",
    "df.head()"
   ]
  },
  {
   "cell_type": "code",
   "execution_count": null,
   "metadata": {},
   "outputs": [],
   "source": []
  }
 ],
 "metadata": {
  "kernelspec": {
   "display_name": "torch",
   "language": "python",
   "name": "python3"
  },
  "language_info": {
   "codemirror_mode": {
    "name": "ipython",
    "version": 3
   },
   "file_extension": ".py",
   "mimetype": "text/x-python",
   "name": "python",
   "nbconvert_exporter": "python",
   "pygments_lexer": "ipython3",
   "version": "3.11.5"
  }
 },
 "nbformat": 4,
 "nbformat_minor": 2
}
