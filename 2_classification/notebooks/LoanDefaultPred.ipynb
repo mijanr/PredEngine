{
 "cells": [
  {
   "cell_type": "markdown",
   "metadata": {},
   "source": [
    "## `Loan Default Prediction` using ML Algorithms\n",
    "\n",
    "### Problem Statement\n",
    "The problem is to predict the probability of a `loan default`. The dataset contains information about the loan and the borrower. The dataset is highly `imbalanced` with the majority of the loans being `non-default`. The goal is to predict the probability of a loan default."
   ]
  },
  {
   "cell_type": "code",
   "execution_count": 117,
   "metadata": {},
   "outputs": [],
   "source": [
    "# necessary imports\n",
    "import numpy as np\n",
    "import torch\n",
    "import pandas as pd\n",
    "import matplotlib.pyplot as plt\n",
    "import matplotlib.ticker as mtick\n",
    "import seaborn as sns\n",
    "import sklearn\n",
    "from sklearn.preprocessing import LabelEncoder\n",
    "from sklearn.model_selection import train_test_split\n",
    "import xgboost as xgb\n",
    "\n",
    "import git \n",
    "\n",
    "import warnings\n",
    "warnings.filterwarnings('ignore')"
   ]
  },
  {
   "cell_type": "code",
   "execution_count": 82,
   "metadata": {},
   "outputs": [],
   "source": [
    "plt.rcParams['figure.figsize'] = (13,8)\n",
    "%config InlineBackend.figure_format = 'retina'\n",
    "\n",
    "sns.set_style(\"darkgrid\")\n",
    "color_palette = sns.color_palette(\"colorblind\")"
   ]
  },
  {
   "cell_type": "markdown",
   "metadata": {},
   "source": [
    "### 1. Load the data and EDA"
   ]
  },
  {
   "cell_type": "code",
   "execution_count": 83,
   "metadata": {},
   "outputs": [],
   "source": [
    "repoPath = git.Repo('.', search_parent_directories=True)\n",
    "\n",
    "dataPath = f\"{repoPath.working_tree_dir}/data/loan_default/Loan_default.csv\""
   ]
  },
  {
   "cell_type": "code",
   "execution_count": 84,
   "metadata": {},
   "outputs": [
    {
     "name": "stdout",
     "output_type": "stream",
     "text": [
      "Shape of the data:  (255347, 18)\n"
     ]
    },
    {
     "data": {
      "text/html": [
       "<div>\n",
       "<style scoped>\n",
       "    .dataframe tbody tr th:only-of-type {\n",
       "        vertical-align: middle;\n",
       "    }\n",
       "\n",
       "    .dataframe tbody tr th {\n",
       "        vertical-align: top;\n",
       "    }\n",
       "\n",
       "    .dataframe thead th {\n",
       "        text-align: right;\n",
       "    }\n",
       "</style>\n",
       "<table border=\"1\" class=\"dataframe\">\n",
       "  <thead>\n",
       "    <tr style=\"text-align: right;\">\n",
       "      <th></th>\n",
       "      <th>LoanID</th>\n",
       "      <th>Age</th>\n",
       "      <th>Income</th>\n",
       "      <th>LoanAmount</th>\n",
       "      <th>CreditScore</th>\n",
       "      <th>MonthsEmployed</th>\n",
       "      <th>NumCreditLines</th>\n",
       "      <th>InterestRate</th>\n",
       "      <th>LoanTerm</th>\n",
       "      <th>DTIRatio</th>\n",
       "      <th>Education</th>\n",
       "      <th>EmploymentType</th>\n",
       "      <th>MaritalStatus</th>\n",
       "      <th>HasMortgage</th>\n",
       "      <th>HasDependents</th>\n",
       "      <th>LoanPurpose</th>\n",
       "      <th>HasCoSigner</th>\n",
       "      <th>Default</th>\n",
       "    </tr>\n",
       "  </thead>\n",
       "  <tbody>\n",
       "    <tr>\n",
       "      <th>0</th>\n",
       "      <td>I38PQUQS96</td>\n",
       "      <td>56</td>\n",
       "      <td>85994</td>\n",
       "      <td>50587</td>\n",
       "      <td>520</td>\n",
       "      <td>80</td>\n",
       "      <td>4</td>\n",
       "      <td>15.23</td>\n",
       "      <td>36</td>\n",
       "      <td>0.44</td>\n",
       "      <td>Bachelor's</td>\n",
       "      <td>Full-time</td>\n",
       "      <td>Divorced</td>\n",
       "      <td>Yes</td>\n",
       "      <td>Yes</td>\n",
       "      <td>Other</td>\n",
       "      <td>Yes</td>\n",
       "      <td>0</td>\n",
       "    </tr>\n",
       "    <tr>\n",
       "      <th>1</th>\n",
       "      <td>HPSK72WA7R</td>\n",
       "      <td>69</td>\n",
       "      <td>50432</td>\n",
       "      <td>124440</td>\n",
       "      <td>458</td>\n",
       "      <td>15</td>\n",
       "      <td>1</td>\n",
       "      <td>4.81</td>\n",
       "      <td>60</td>\n",
       "      <td>0.68</td>\n",
       "      <td>Master's</td>\n",
       "      <td>Full-time</td>\n",
       "      <td>Married</td>\n",
       "      <td>No</td>\n",
       "      <td>No</td>\n",
       "      <td>Other</td>\n",
       "      <td>Yes</td>\n",
       "      <td>0</td>\n",
       "    </tr>\n",
       "    <tr>\n",
       "      <th>2</th>\n",
       "      <td>C1OZ6DPJ8Y</td>\n",
       "      <td>46</td>\n",
       "      <td>84208</td>\n",
       "      <td>129188</td>\n",
       "      <td>451</td>\n",
       "      <td>26</td>\n",
       "      <td>3</td>\n",
       "      <td>21.17</td>\n",
       "      <td>24</td>\n",
       "      <td>0.31</td>\n",
       "      <td>Master's</td>\n",
       "      <td>Unemployed</td>\n",
       "      <td>Divorced</td>\n",
       "      <td>Yes</td>\n",
       "      <td>Yes</td>\n",
       "      <td>Auto</td>\n",
       "      <td>No</td>\n",
       "      <td>1</td>\n",
       "    </tr>\n",
       "    <tr>\n",
       "      <th>3</th>\n",
       "      <td>V2KKSFM3UN</td>\n",
       "      <td>32</td>\n",
       "      <td>31713</td>\n",
       "      <td>44799</td>\n",
       "      <td>743</td>\n",
       "      <td>0</td>\n",
       "      <td>3</td>\n",
       "      <td>7.07</td>\n",
       "      <td>24</td>\n",
       "      <td>0.23</td>\n",
       "      <td>High School</td>\n",
       "      <td>Full-time</td>\n",
       "      <td>Married</td>\n",
       "      <td>No</td>\n",
       "      <td>No</td>\n",
       "      <td>Business</td>\n",
       "      <td>No</td>\n",
       "      <td>0</td>\n",
       "    </tr>\n",
       "    <tr>\n",
       "      <th>4</th>\n",
       "      <td>EY08JDHTZP</td>\n",
       "      <td>60</td>\n",
       "      <td>20437</td>\n",
       "      <td>9139</td>\n",
       "      <td>633</td>\n",
       "      <td>8</td>\n",
       "      <td>4</td>\n",
       "      <td>6.51</td>\n",
       "      <td>48</td>\n",
       "      <td>0.73</td>\n",
       "      <td>Bachelor's</td>\n",
       "      <td>Unemployed</td>\n",
       "      <td>Divorced</td>\n",
       "      <td>No</td>\n",
       "      <td>Yes</td>\n",
       "      <td>Auto</td>\n",
       "      <td>No</td>\n",
       "      <td>0</td>\n",
       "    </tr>\n",
       "  </tbody>\n",
       "</table>\n",
       "</div>"
      ],
      "text/plain": [
       "       LoanID  Age  Income  LoanAmount  CreditScore  MonthsEmployed  \\\n",
       "0  I38PQUQS96   56   85994       50587          520              80   \n",
       "1  HPSK72WA7R   69   50432      124440          458              15   \n",
       "2  C1OZ6DPJ8Y   46   84208      129188          451              26   \n",
       "3  V2KKSFM3UN   32   31713       44799          743               0   \n",
       "4  EY08JDHTZP   60   20437        9139          633               8   \n",
       "\n",
       "   NumCreditLines  InterestRate  LoanTerm  DTIRatio    Education  \\\n",
       "0               4         15.23        36      0.44   Bachelor's   \n",
       "1               1          4.81        60      0.68     Master's   \n",
       "2               3         21.17        24      0.31     Master's   \n",
       "3               3          7.07        24      0.23  High School   \n",
       "4               4          6.51        48      0.73   Bachelor's   \n",
       "\n",
       "  EmploymentType MaritalStatus HasMortgage HasDependents LoanPurpose  \\\n",
       "0      Full-time      Divorced         Yes           Yes       Other   \n",
       "1      Full-time       Married          No            No       Other   \n",
       "2     Unemployed      Divorced         Yes           Yes        Auto   \n",
       "3      Full-time       Married          No            No    Business   \n",
       "4     Unemployed      Divorced          No           Yes        Auto   \n",
       "\n",
       "  HasCoSigner  Default  \n",
       "0         Yes        0  \n",
       "1         Yes        0  \n",
       "2          No        1  \n",
       "3          No        0  \n",
       "4          No        0  "
      ]
     },
     "execution_count": 84,
     "metadata": {},
     "output_type": "execute_result"
    }
   ],
   "source": [
    "# load the data\n",
    "df = pd.read_csv(dataPath)\n",
    "print(\"Shape of the data: \", df.shape)\n",
    "df.head()"
   ]
  },
  {
   "cell_type": "code",
   "execution_count": 85,
   "metadata": {},
   "outputs": [],
   "source": [
    "# check if there are any null values\n",
    "#print(df.isnull().sum())\n",
    "# check if there are any missing values\n",
    "#print(df.isna().sum())"
   ]
  },
  {
   "cell_type": "markdown",
   "metadata": {},
   "source": [
    "There is no missing or null values in the dataset. So, we don't need to do any data cleaning. However, we can just drop \"LoandID\" column as it doesn't contribute to the prediction. Furthermore, we need to convert categorical columns to numerical columns."
   ]
  },
  {
   "cell_type": "markdown",
   "metadata": {},
   "source": [
    "#### 1.1 Default likelihood by education level"
   ]
  },
  {
   "cell_type": "code",
   "execution_count": 86,
   "metadata": {},
   "outputs": [
    {
     "data": {
      "image/png": "[encoded data removed]",
      "text/plain": [
       "<Figure size 600x400 with 1 Axes>"
      ]
     },
     "metadata": {
      "image/png": {
       "height": 392,
       "width": 558
      }
     },
     "output_type": "display_data"
    }
   ],
   "source": [
    "# find percentage of each education category who defaulted\n",
    "df_education = df.groupby(['Education', 'Default'])['Default'].count().reset_index(name='count').sort_values(['Education', 'Default'], ascending=False)\n",
    "df_education['percentage'] = df_education['count'].div(df_education.groupby('Education')['count'].transform('sum')).mul(100)\n",
    "df_education_default = df_education[df_education['Default'] == 1]\n",
    "df_education_default = df_education_default.sort_values(['percentage'], ascending=False)\n",
    "\n",
    "# plot the percentage of each education category who defaulted\n",
    "plt.figure(figsize=(6,4))\n",
    "sns.barplot(x='Education', y='percentage', data=df_education_default, hue='Education')\n",
    "# show percentage on y-axis\n",
    "plt.gca().yaxis.set_major_formatter(mtick.PercentFormatter())\n",
    "plt.title('Percentage of each education category who defaulted')\n",
    "plt.show()"
   ]
  },
  {
   "cell_type": "markdown",
   "metadata": {},
   "source": [
    "#### 1.2 Default likelihood by EmploymentType"
   ]
  },
  {
   "cell_type": "code",
   "execution_count": 87,
   "metadata": {},
   "outputs": [
    {
     "data": {
      "image/png": "[encoded data removed]",
      "text/plain": [
       "<Figure size 600x400 with 1 Axes>"
      ]
     },
     "metadata": {
      "image/png": {
       "height": 392,
       "width": 550
      }
     },
     "output_type": "display_data"
    }
   ],
   "source": [
    "df_emp = df.groupby(['EmploymentType', 'Default'])['Default'].count().reset_index(name='count').sort_values(['EmploymentType', 'Default'], ascending=False)\n",
    "df_emp['percentage'] = df_emp['count'].div(df_emp.groupby('EmploymentType')['count'].transform('sum')).mul(100)\n",
    "df_emp_default = df_emp[df_emp['Default'] == 1]\n",
    "df_emp_default = df_emp_default.sort_values(['percentage'], ascending=False)\n",
    "\n",
    "# plot the percentage of each employment category who defaulted\n",
    "plt.figure(figsize=(6,4))\n",
    "sns.barplot(x='EmploymentType', y='percentage', data=df_emp_default, hue='EmploymentType')\n",
    "plt.title('Percentage of each employment category who defaulted')\n",
    "plt.xlabel('Employment')\n",
    "plt.ylabel('Percentage')\n",
    "\n",
    "# format y-axis as percentage\n",
    "fmt = '%.0f%%' # specify the format as percentage with 0 decimal places\n",
    "yticks = mtick.FormatStrFormatter(fmt)\n",
    "plt.gca().yaxis.set_major_formatter(yticks)\n",
    "\n",
    "plt.show()"
   ]
  },
  {
   "cell_type": "markdown",
   "metadata": {},
   "source": [
    "### 2. Encoding categorical columns and Coorelation"
   ]
  },
  {
   "cell_type": "code",
   "execution_count": 88,
   "metadata": {},
   "outputs": [],
   "source": [
    "# drop LoanID\n",
    "df.drop(['LoanID'], axis=1, inplace=True)"
   ]
  },
  {
   "cell_type": "code",
   "execution_count": 89,
   "metadata": {},
   "outputs": [],
   "source": [
    "# encode the categorical variables\n",
    "def encode_categorical(df:pd.DataFrame)->pd.DataFrame:\n",
    "    \"\"\"\n",
    "    This function encodes the categorical variables in the dataframe\n",
    "    \"\"\"\n",
    "    le = LabelEncoder()\n",
    "    for col in df.columns:\n",
    "        if df[col].dtype == 'object':\n",
    "            df[col] = le.fit_transform(df[col])\n",
    "    return df"
   ]
  },
  {
   "cell_type": "code",
   "execution_count": 90,
   "metadata": {},
   "outputs": [
    {
     "data": {
      "text/html": [
       "<div>\n",
       "<style scoped>\n",
       "    .dataframe tbody tr th:only-of-type {\n",
       "        vertical-align: middle;\n",
       "    }\n",
       "\n",
       "    .dataframe tbody tr th {\n",
       "        vertical-align: top;\n",
       "    }\n",
       "\n",
       "    .dataframe thead th {\n",
       "        text-align: right;\n",
       "    }\n",
       "</style>\n",
       "<table border=\"1\" class=\"dataframe\">\n",
       "  <thead>\n",
       "    <tr style=\"text-align: right;\">\n",
       "      <th></th>\n",
       "      <th>Age</th>\n",
       "      <th>Income</th>\n",
       "      <th>LoanAmount</th>\n",
       "      <th>CreditScore</th>\n",
       "      <th>MonthsEmployed</th>\n",
       "      <th>NumCreditLines</th>\n",
       "      <th>InterestRate</th>\n",
       "      <th>LoanTerm</th>\n",
       "      <th>DTIRatio</th>\n",
       "      <th>Education</th>\n",
       "      <th>EmploymentType</th>\n",
       "      <th>MaritalStatus</th>\n",
       "      <th>HasMortgage</th>\n",
       "      <th>HasDependents</th>\n",
       "      <th>LoanPurpose</th>\n",
       "      <th>HasCoSigner</th>\n",
       "      <th>Default</th>\n",
       "    </tr>\n",
       "  </thead>\n",
       "  <tbody>\n",
       "    <tr>\n",
       "      <th>0</th>\n",
       "      <td>56</td>\n",
       "      <td>85994</td>\n",
       "      <td>50587</td>\n",
       "      <td>520</td>\n",
       "      <td>80</td>\n",
       "      <td>4</td>\n",
       "      <td>15.23</td>\n",
       "      <td>36</td>\n",
       "      <td>0.44</td>\n",
       "      <td>0</td>\n",
       "      <td>0</td>\n",
       "      <td>0</td>\n",
       "      <td>1</td>\n",
       "      <td>1</td>\n",
       "      <td>4</td>\n",
       "      <td>1</td>\n",
       "      <td>0</td>\n",
       "    </tr>\n",
       "    <tr>\n",
       "      <th>1</th>\n",
       "      <td>69</td>\n",
       "      <td>50432</td>\n",
       "      <td>124440</td>\n",
       "      <td>458</td>\n",
       "      <td>15</td>\n",
       "      <td>1</td>\n",
       "      <td>4.81</td>\n",
       "      <td>60</td>\n",
       "      <td>0.68</td>\n",
       "      <td>2</td>\n",
       "      <td>0</td>\n",
       "      <td>1</td>\n",
       "      <td>0</td>\n",
       "      <td>0</td>\n",
       "      <td>4</td>\n",
       "      <td>1</td>\n",
       "      <td>0</td>\n",
       "    </tr>\n",
       "    <tr>\n",
       "      <th>2</th>\n",
       "      <td>46</td>\n",
       "      <td>84208</td>\n",
       "      <td>129188</td>\n",
       "      <td>451</td>\n",
       "      <td>26</td>\n",
       "      <td>3</td>\n",
       "      <td>21.17</td>\n",
       "      <td>24</td>\n",
       "      <td>0.31</td>\n",
       "      <td>2</td>\n",
       "      <td>3</td>\n",
       "      <td>0</td>\n",
       "      <td>1</td>\n",
       "      <td>1</td>\n",
       "      <td>0</td>\n",
       "      <td>0</td>\n",
       "      <td>1</td>\n",
       "    </tr>\n",
       "    <tr>\n",
       "      <th>3</th>\n",
       "      <td>32</td>\n",
       "      <td>31713</td>\n",
       "      <td>44799</td>\n",
       "      <td>743</td>\n",
       "      <td>0</td>\n",
       "      <td>3</td>\n",
       "      <td>7.07</td>\n",
       "      <td>24</td>\n",
       "      <td>0.23</td>\n",
       "      <td>1</td>\n",
       "      <td>0</td>\n",
       "      <td>1</td>\n",
       "      <td>0</td>\n",
       "      <td>0</td>\n",
       "      <td>1</td>\n",
       "      <td>0</td>\n",
       "      <td>0</td>\n",
       "    </tr>\n",
       "    <tr>\n",
       "      <th>4</th>\n",
       "      <td>60</td>\n",
       "      <td>20437</td>\n",
       "      <td>9139</td>\n",
       "      <td>633</td>\n",
       "      <td>8</td>\n",
       "      <td>4</td>\n",
       "      <td>6.51</td>\n",
       "      <td>48</td>\n",
       "      <td>0.73</td>\n",
       "      <td>0</td>\n",
       "      <td>3</td>\n",
       "      <td>0</td>\n",
       "      <td>0</td>\n",
       "      <td>1</td>\n",
       "      <td>0</td>\n",
       "      <td>0</td>\n",
       "      <td>0</td>\n",
       "    </tr>\n",
       "  </tbody>\n",
       "</table>\n",
       "</div>"
      ],
      "text/plain": [
       "   Age  Income  LoanAmount  CreditScore  MonthsEmployed  NumCreditLines  \\\n",
       "0   56   85994       50587          520              80               4   \n",
       "1   69   50432      124440          458              15               1   \n",
       "2   46   84208      129188          451              26               3   \n",
       "3   32   31713       44799          743               0               3   \n",
       "4   60   20437        9139          633               8               4   \n",
       "\n",
       "   InterestRate  LoanTerm  DTIRatio  Education  EmploymentType  MaritalStatus  \\\n",
       "0         15.23        36      0.44          0               0              0   \n",
       "1          4.81        60      0.68          2               0              1   \n",
       "2         21.17        24      0.31          2               3              0   \n",
       "3          7.07        24      0.23          1               0              1   \n",
       "4          6.51        48      0.73          0               3              0   \n",
       "\n",
       "   HasMortgage  HasDependents  LoanPurpose  HasCoSigner  Default  \n",
       "0            1              1            4            1        0  \n",
       "1            0              0            4            1        0  \n",
       "2            1              1            0            0        1  \n",
       "3            0              0            1            0        0  \n",
       "4            0              1            0            0        0  "
      ]
     },
     "execution_count": 90,
     "metadata": {},
     "output_type": "execute_result"
    }
   ],
   "source": [
    "df = encode_categorical(df)\n",
    "df.head()"
   ]
  },
  {
   "cell_type": "code",
   "execution_count": 91,
   "metadata": {},
   "outputs": [],
   "source": [
    "# check the correlation between the target variable and other variables\n",
    "corr = df.corr()['Default'].sort_values()"
   ]
  },
  {
   "cell_type": "code",
   "execution_count": 92,
   "metadata": {},
   "outputs": [
    {
     "data": {
      "text/plain": [
       "Age              -0.167783\n",
       "Income           -0.099119\n",
       "MonthsEmployed   -0.097374\n",
       "HasCoSigner      -0.039109\n",
       "HasDependents    -0.034678\n",
       "CreditScore      -0.034166\n",
       "HasMortgage      -0.022856\n",
       "Education        -0.022835\n",
       "LoanPurpose      -0.010096\n",
       "MaritalStatus    -0.007902\n",
       "LoanTerm          0.000545\n",
       "DTIRatio          0.019236\n",
       "NumCreditLines    0.028330\n",
       "EmploymentType    0.041010\n",
       "LoanAmount        0.086659\n",
       "InterestRate      0.131273\n",
       "Default           1.000000\n",
       "Name: Default, dtype: float64"
      ]
     },
     "execution_count": 92,
     "metadata": {},
     "output_type": "execute_result"
    }
   ],
   "source": [
    "corr"
   ]
  },
  {
   "cell_type": "markdown",
   "metadata": {},
   "source": [
    "Not all features are `strongly` correlated to the target column. This means that not every piece of information we have about a loan applicant will directly influence whether they will default on their loan or not. It's important to identify and focus on the features that have the strongest correlation with the target column for the predictive model to be effective.\n",
    "Let's choose the features that have a `correlation of more than 0.05 or less than -0.05 with the target column`."
   ]
  },
  {
   "cell_type": "code",
   "execution_count": 93,
   "metadata": {},
   "outputs": [],
   "source": [
    "# choose the features with correlation greater than 0.05\n",
    "features = corr[abs(corr) > 0.05]\n",
    "df_new = df[features.index]"
   ]
  },
  {
   "cell_type": "code",
   "execution_count": 94,
   "metadata": {},
   "outputs": [
    {
     "data": {
      "text/plain": [
       "Age              -0.167783\n",
       "Income           -0.099119\n",
       "MonthsEmployed   -0.097374\n",
       "LoanAmount        0.086659\n",
       "InterestRate      0.131273\n",
       "Default           1.000000\n",
       "Name: Default, dtype: float64"
      ]
     },
     "execution_count": 94,
     "metadata": {},
     "output_type": "execute_result"
    }
   ],
   "source": [
    "df_new.corr()['Default'].sort_values()"
   ]
  },
  {
   "cell_type": "code",
   "execution_count": 95,
   "metadata": {},
   "outputs": [
    {
     "data": {
      "image/png": "[encoded data removed]",
      "text/plain": [
       "<Figure size 600x400 with 1 Axes>"
      ]
     },
     "metadata": {
      "image/png": {
       "height": 371,
       "width": 567
      }
     },
     "output_type": "display_data"
    }
   ],
   "source": [
    "# count plot for the target variable\n",
    "plt.figure(figsize=(6,4))\n",
    "sns.countplot(x = 'Default', data=df_new, hue='Default')\n",
    "plt.show()"
   ]
  },
  {
   "cell_type": "markdown",
   "metadata": {},
   "source": [
    "The dataset is highly `imbalanced` with the majority of the loans being non-default. This is exactly what makes this problem a bit challenging and interesting. We need to handle this imbalance in the dataset."
   ]
  },
  {
   "cell_type": "markdown",
   "metadata": {},
   "source": [
    "Let's first train a model without handling the imbalance and see how it performs."
   ]
  },
  {
   "cell_type": "markdown",
   "metadata": {},
   "source": [
    "### 3. Train and Test Split "
   ]
  },
  {
   "cell_type": "code",
   "execution_count": 96,
   "metadata": {},
   "outputs": [],
   "source": [
    "# split the data into train and test\n",
    "# randomly choose 70% of the data for training and 30% for testing\n",
    "X = df_new.drop(['Default'], axis=1).values\n",
    "y = df_new['Default'].values\n",
    "X_train, X_test, y_train, y_test = sklearn.model_selection.train_test_split(X, y, test_size=0.3, random_state=42)"
   ]
  },
  {
   "cell_type": "code",
   "execution_count": 97,
   "metadata": {},
   "outputs": [
    {
     "data": {
      "text/plain": [
       "((array([0, 1]), array([158013,  20729])),\n",
       " (array([0, 1]), array([67681,  8924])))"
      ]
     },
     "execution_count": 97,
     "metadata": {},
     "output_type": "execute_result"
    }
   ],
   "source": [
    "np.unique(y_train, return_counts=True), np.unique(y_test, return_counts=True)"
   ]
  },
  {
   "cell_type": "markdown",
   "metadata": {},
   "source": [
    "### 4. Classification Models"
   ]
  },
  {
   "cell_type": "markdown",
   "metadata": {},
   "source": [
    "We will use `XGBoost` classifier for this problem. However, we can also use other classifiers like `Random Forest`, `Logistic Regression`, etc."
   ]
  },
  {
   "cell_type": "code",
   "execution_count": 109,
   "metadata": {},
   "outputs": [],
   "source": [
    "# make a classifier function to train and test the model\n",
    "def xgb_classifier(X_train, X_test, y_train, y_test, print_results=True, params:dict={}):\n",
    "    \"\"\"\n",
    "    This function trains and tests the XGBoost classifier\n",
    "    \"\"\"\n",
    "    # create the classifier\n",
    "    clf = xgb.XGBClassifier(**params)\n",
    "\n",
    "    # train the classifier\n",
    "    clf.fit(X_train, y_train)\n",
    "\n",
    "    # predict the values\n",
    "    y_pred = clf.predict(X_test)\n",
    "\n",
    "    accuracy = sklearn.metrics.accuracy_score(y_test, y_pred)\n",
    "    classification_report = sklearn.metrics.classification_report(y_test, y_pred)\n",
    "\n",
    "    print(\"====================================================================\")\n",
    "    print(\"Accuracy: \", accuracy)\n",
    "    print(\"====================================================================\")\n",
    "    print(\"Classification report: \\n\", classification_report)\n",
    "    print(\"====================================================================\")\n",
    "\n",
    "    return accuracy, classification_report\n"
   ]
  },
  {
   "cell_type": "code",
   "execution_count": 110,
   "metadata": {},
   "outputs": [
    {
     "name": "stdout",
     "output_type": "stream",
     "text": [
      "====================================================================\n",
      "Accuracy:  0.8841720514326741\n",
      "====================================================================\n",
      "Classification report: \n",
      "               precision    recall  f1-score   support\n",
      "\n",
      "           0       0.89      0.99      0.94     67681\n",
      "           1       0.52      0.06      0.11      8924\n",
      "\n",
      "    accuracy                           0.88     76605\n",
      "   macro avg       0.71      0.53      0.52     76605\n",
      "weighted avg       0.85      0.88      0.84     76605\n",
      "\n",
      "====================================================================\n"
     ]
    }
   ],
   "source": [
    "# train and test the model\n",
    "_, _ = xgb_classifier(X_train, X_test, y_train, y_test)"
   ]
  },
  {
   "cell_type": "markdown",
   "metadata": {},
   "source": [
    "We got the classification accuracy! Great! But, what does this number really tell us? Let's look at the classification report to see the precision and recall values for each class."
   ]
  },
  {
   "cell_type": "markdown",
   "metadata": {},
   "source": [
    "Not very good! We can see that the model is really bad at predicting the minority class. It has a very low precision and recall for the minority class. We need to find a way to improve the model's ability to predict the minority class!"
   ]
  },
  {
   "cell_type": "markdown",
   "metadata": {},
   "source": [
    "### 5. Dealing with imbalanced classes"
   ]
  },
  {
   "cell_type": "code",
   "execution_count": 101,
   "metadata": {},
   "outputs": [],
   "source": [
    "from imblearn.under_sampling import RandomUnderSampler\n",
    "from imblearn.over_sampling import RandomOverSampler\n",
    "from imblearn.combine import SMOTETomek\n",
    "from imblearn.ensemble import BalancedBaggingClassifier\n",
    "from sklearn.tree import DecisionTreeClassifier\n",
    "from xgboost import XGBClassifier"
   ]
  },
  {
   "cell_type": "markdown",
   "metadata": {},
   "source": [
    "#### 5.1 Undersampling\n",
    "The simplest way to deal with imbalanced classes is to `undersample` the majority class. We can do this by randomly selecting same number of samples from the majority class as there are in the minority class."
   ]
  },
  {
   "cell_type": "code",
   "execution_count": 103,
   "metadata": {},
   "outputs": [
    {
     "name": "stdout",
     "output_type": "stream",
     "text": [
      "====================================================================\n",
      "Accuracy:  0.6646694080020886\n",
      "====================================================================\n",
      "Classification report: \n",
      "               precision    recall  f1-score   support\n",
      "\n",
      "           0       0.94      0.66      0.78     67681\n",
      "           1       0.21      0.67      0.32      8924\n",
      "\n",
      "    accuracy                           0.66     76605\n",
      "   macro avg       0.57      0.66      0.55     76605\n",
      "weighted avg       0.85      0.66      0.72     76605\n",
      "\n",
      "====================================================================\n"
     ]
    }
   ],
   "source": [
    "# train test split \n",
    "rus = RandomUnderSampler(random_state=42)\n",
    "X_train_us, y_train_us = rus.fit_resample(X_train, y_train)\n",
    "\n",
    "# train and test the model\n",
    "_, _ = xgb_classifier(X_train_us, X_test, y_train_us, y_test)"
   ]
  },
  {
   "cell_type": "markdown",
   "metadata": {},
   "source": [
    "The model is now able to predict the minority class better. However, this is still much worse than what we would expect from a good model. We need to find a better way to handle the imbalance in the dataset."
   ]
  },
  {
   "cell_type": "markdown",
   "metadata": {},
   "source": [
    "#### 5.2 Oversampling\n",
    "\n",
    "Another way to deal with imbalanced classes is to `oversample` the minority class. We can do this by randomly selecting same number of samples from the minority class as there are in the majority class."
   ]
  },
  {
   "cell_type": "code",
   "execution_count": 104,
   "metadata": {},
   "outputs": [
    {
     "name": "stdout",
     "output_type": "stream",
     "text": [
      "====================================================================\n",
      "Accuracy:  0.703452777233862\n",
      "====================================================================\n",
      "Classification report: \n",
      "               precision    recall  f1-score   support\n",
      "\n",
      "           0       0.93      0.71      0.81     67681\n",
      "           1       0.22      0.62      0.33      8924\n",
      "\n",
      "    accuracy                           0.70     76605\n",
      "   macro avg       0.58      0.67      0.57     76605\n",
      "weighted avg       0.85      0.70      0.75     76605\n",
      "\n",
      "====================================================================\n"
     ]
    }
   ],
   "source": [
    "ros = RandomOverSampler(random_state=42)\n",
    "X_train_os, y_train_os = ros.fit_resample(X_train, y_train)\n",
    "\n",
    "# train and test the model\n",
    "_, _ = xgb_classifier(X_train_os, X_test, y_train_os, y_test)"
   ]
  },
  {
   "cell_type": "markdown",
   "metadata": {},
   "source": [
    "Like, before, we would like the model to predict the minority class better. However, this is still not good enough!"
   ]
  },
  {
   "cell_type": "markdown",
   "metadata": {},
   "source": [
    "#### 5.3 SMOTE\n",
    "`SMOTE` stands for `Synthetic Minority Oversampling Technique`. Unlike random oversampling, `SMOTE` does not create exact copies of observations from the minority class. Instead, `SMOTE` creates new, `synthetic`, samples that are quite similar to the existing observations in the minority class."
   ]
  },
  {
   "cell_type": "code",
   "execution_count": 105,
   "metadata": {},
   "outputs": [
    {
     "data": {
      "text/plain": [
       "(array([0, 1]), array([201433, 201433]))"
      ]
     },
     "execution_count": 105,
     "metadata": {},
     "output_type": "execute_result"
    }
   ],
   "source": [
    "# SMOTE\n",
    "smk = SMOTETomek(random_state=42)\n",
    "X_smk, y_smk = smk.fit_resample(X, y)\n",
    "\n",
    "# check the class distribution\n",
    "np.unique(y_smk, return_counts=True)"
   ]
  },
  {
   "cell_type": "markdown",
   "metadata": {},
   "source": [
    "It's a good balance now between both classes."
   ]
  },
  {
   "cell_type": "code",
   "execution_count": 106,
   "metadata": {},
   "outputs": [
    {
     "name": "stdout",
     "output_type": "stream",
     "text": [
      "====================================================================\n",
      "Accuracy:  0.8636190633791163\n",
      "====================================================================\n",
      "Classification report: \n",
      "               precision    recall  f1-score   support\n",
      "\n",
      "           0       0.82      0.94      0.87     60593\n",
      "           1       0.93      0.79      0.85     60267\n",
      "\n",
      "    accuracy                           0.86    120860\n",
      "   macro avg       0.87      0.86      0.86    120860\n",
      "weighted avg       0.87      0.86      0.86    120860\n",
      "\n",
      "====================================================================\n"
     ]
    }
   ],
   "source": [
    "# train and test the model\n",
    "X_train_smk, X_test_smk, y_train_smk, y_test_smk = train_test_split(X_smk, y_smk, test_size=0.3, random_state=42)\n",
    "\n",
    "# train and test the model\n",
    "_, _ = xgb_classifier(X_train_smk, X_test_smk, y_train_smk, y_test_smk)"
   ]
  },
  {
   "cell_type": "markdown",
   "metadata": {},
   "source": [
    "Boom! We have improved the model's ability to predict the minority class. The `precision` and `recall` values for the minority class have improved significantly. The model is now able to predict the minority class with a good `precision` and `recall`. The precision and recall values for the majority class have also improved!"
   ]
  },
  {
   "cell_type": "markdown",
   "metadata": {},
   "source": [
    "#### 5.4 Balanced Bagging Classifier\n",
    "\n",
    "`BalancedBaggingClassifier` is a type of ensemble learning technique. It is an `ensemble learning` technique that combines the predictions from multiple machine learning algorithms together to make more accurate predictions than any individual model."
   ]
  },
  {
   "cell_type": "code",
   "execution_count": 74,
   "metadata": {},
   "outputs": [],
   "source": [
    "# train-test split\n",
    "X_train, X_test, y_train, y_test = train_test_split(X, y, test_size=0.3, random_state=42)"
   ]
  },
  {
   "cell_type": "code",
   "execution_count": 75,
   "metadata": {},
   "outputs": [],
   "source": [
    "# Balanced Bagging Classifier\n",
    "clf = BalancedBaggingClassifier(base_estimator=XGBClassifier(), sampling_strategy='auto', replacement=False, random_state=42)\n",
    "\n",
    "# fit the classifier\n",
    "clf.fit(X_train, y_train)\n",
    "\n",
    "# predict the values\n",
    "y_pred = clf.predict(X_test)\n",
    "\n",
    "accuracy = sklearn.metrics.accuracy_score(y_test, y_pred)\n",
    "classification_report = sklearn.metrics.classification_report(y_test, y_pred)"
   ]
  },
  {
   "cell_type": "code",
   "execution_count": 76,
   "metadata": {},
   "outputs": [
    {
     "name": "stdout",
     "output_type": "stream",
     "text": [
      "====================================================================\n",
      "Accuracy:  0.7017688140460805\n",
      "====================================================================\n",
      "Classification report: \n",
      "               precision    recall  f1-score   support\n",
      "\n",
      "           0       0.94      0.71      0.81     67681\n",
      "           1       0.23      0.65      0.34      8924\n",
      "\n",
      "    accuracy                           0.70     76605\n",
      "   macro avg       0.58      0.68      0.57     76605\n",
      "weighted avg       0.86      0.70      0.75     76605\n",
      "\n",
      "====================================================================\n"
     ]
    }
   ],
   "source": [
    "print(\"====================================================================\")\n",
    "print(\"Accuracy: \", accuracy)\n",
    "print(\"====================================================================\")\n",
    "print(\"Classification report: \\n\", classification_report)\n",
    "print(\"====================================================================\")"
   ]
  },
  {
   "cell_type": "markdown",
   "metadata": {},
   "source": [
    "### 6. Hyperparameter Tuning\n",
    "\n",
    "- We will use Optuna to tune the hyperparameters of the `XGBoost` classifier.\n",
    "- We will use SMOTE to handle the imbalance in the dataset."
   ]
  },
  {
   "cell_type": "code",
   "execution_count": 108,
   "metadata": {},
   "outputs": [],
   "source": [
    "import optuna"
   ]
  },
  {
   "cell_type": "code",
   "execution_count": 118,
   "metadata": {},
   "outputs": [],
   "source": [
    "# define the objective function\n",
    "def objective(trial):\n",
    "\n",
    "    device = 'cuda' if torch.cuda.is_available() else 'cpu'\n",
    "\n",
    "    # define the parameters\n",
    "    param = {\n",
    "        'max_depth': trial.suggest_int('max_depth', 2, 10),\n",
    "        'n_estimators': trial.suggest_categorical('n_estimators', [100, 200, 300, 400, 500]),\n",
    "        'learning_rate': trial.suggest_loguniform('learning_rate', 0.01, 0.5),\n",
    "        'subsample': trial.suggest_uniform('subsample', 0.1, 1.0),\n",
    "        'min_child_weight': trial.suggest_int('min_child_weight', 1, 10),\n",
    "\n",
    "        'objective': 'binary:logistic',\n",
    "        'n_jobs': -1,\n",
    "        'tree_method': 'gpu_hist' if device == 'cuda' else 'auto',\n",
    "        'random_state': 42\n",
    "    }\n",
    "    \n",
    "\n",
    "    # create the classifier\n",
    "    clf = xgb.XGBClassifier(**param)\n",
    "    \n",
    "    # train the classifier\n",
    "    clf.fit(X_train_smk, y_train_smk)\n",
    "\n",
    "    # predict the values\n",
    "    y_pred = clf.predict(X_test_smk)\n",
    "\n",
    "    accuracy = sklearn.metrics.accuracy_score(y_test_smk, y_pred)\n",
    "\n",
    "    return accuracy"
   ]
  },
  {
   "cell_type": "code",
   "execution_count": 120,
   "metadata": {},
   "outputs": [
    {
     "name": "stderr",
     "output_type": "stream",
     "text": [
      "[I 2024-04-01 12:28:10,816] A new study created in memory with name: no-name-70e4cad5-7c41-46be-99a5-c92e51c6b2f2\n",
      "[I 2024-04-01 12:28:12,974] Trial 0 finished with value: 0.7400049644216449 and parameters: {'max_depth': 8, 'n_estimators': 100, 'learning_rate': 0.01224343016084542, 'subsample': 0.1568916813917715, 'min_child_weight': 9}. Best is trial 0 with value: 0.7400049644216449.\n",
      "[I 2024-04-01 12:28:16,022] Trial 1 finished with value: 0.8670941585305312 and parameters: {'max_depth': 6, 'n_estimators': 400, 'learning_rate': 0.13420701739003343, 'subsample': 0.3456334465817017, 'min_child_weight': 9}. Best is trial 1 with value: 0.8670941585305312.\n"
     ]
    }
   ],
   "source": [
    "# create the study\n",
    "study = optuna.create_study(direction='maximize')\n",
    "study.optimize(objective, n_trials=2)"
   ]
  },
  {
   "cell_type": "code",
   "execution_count": 121,
   "metadata": {},
   "outputs": [
    {
     "data": {
      "text/plain": [
       "{'max_depth': 6,\n",
       " 'n_estimators': 400,\n",
       " 'learning_rate': 0.13420701739003343,\n",
       " 'subsample': 0.3456334465817017,\n",
       " 'min_child_weight': 9}"
      ]
     },
     "execution_count": 121,
     "metadata": {},
     "output_type": "execute_result"
    }
   ],
   "source": [
    "# get the best parameters\n",
    "best_params = study.best_params\n",
    "best_params\n"
   ]
  },
  {
   "cell_type": "code",
   "execution_count": 122,
   "metadata": {},
   "outputs": [
    {
     "name": "stdout",
     "output_type": "stream",
     "text": [
      "====================================================================\n",
      "Accuracy:  0.8685338408075459\n",
      "====================================================================\n",
      "Classification report: \n",
      "               precision    recall  f1-score   support\n",
      "\n",
      "           0       0.82      0.94      0.88     60593\n",
      "           1       0.93      0.79      0.86     60267\n",
      "\n",
      "    accuracy                           0.87    120860\n",
      "   macro avg       0.88      0.87      0.87    120860\n",
      "weighted avg       0.88      0.87      0.87    120860\n",
      "\n",
      "====================================================================\n"
     ]
    }
   ],
   "source": [
    "# train and test the model\n",
    "_, _ = xgb_classifier(X_train_smk, X_test_smk, y_train_smk, y_test_smk, params=best_params)"
   ]
  },
  {
   "cell_type": "markdown",
   "metadata": {},
   "source": [
    "### 7. Conclusion\n",
    "\n",
    "We have successfully predicted the probability of a loan default using `XGBoost` classifier. We have also handled the imbalance in the dataset using methods like `Undersampling`, `Oversampling`, `SMOTE`, and `BalancedBaggingClassifier`. Out of all these methods, `SMOTE` gave the best results. Finally, we have tuned the hyperparameters of the `XGBoost` classifier using `Optuna` and got the best parameters that gave the best results."
   ]
  }
 ],
 "metadata": {
  "kernelspec": {
   "display_name": "torch",
   "language": "python",
   "name": "python3"
  },
  "language_info": {
   "codemirror_mode": {
    "name": "ipython",
    "version": 3
   },
   "file_extension": ".py",
   "mimetype": "text/x-python",
   "name": "python",
   "nbconvert_exporter": "python",
   "pygments_lexer": "ipython3",
   "version": "3.11.5"
  }
 },
 "nbformat": 4,
 "nbformat_minor": 2
}
